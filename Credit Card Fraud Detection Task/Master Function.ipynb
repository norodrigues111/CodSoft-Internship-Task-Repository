{
 "cells": [
  {
   "cell_type": "markdown",
   "id": "9cf2c1d2",
   "metadata": {},
   "source": [
    "# Creating a Master Function for Data Science Project"
   ]
  },
  {
   "cell_type": "code",
   "execution_count": 44,
   "id": "f0bebda0",
   "metadata": {},
   "outputs": [],
   "source": [
    "# Import libraries\n",
    "import pandas as pd\n",
    "import numpy as np\n",
    "from datasets import load_dataset\n",
    "import seaborn as sns\n",
    "import matplotlib.pyplot as plt\n",
    "import plotly.graph_objects as go \n",
    "import warnings \n",
    "warnings.filterwarnings('ignore')\n",
    "\n",
    "\n",
    "from sklearn.model_selection import train_test_split\n",
    "from sklearn.ensemble import RandomForestClassifier\n",
    "from sklearn.svm import SVC\n",
    "from xgboost import XGBClassifier\n",
    "from sklearn.metrics import classification_report, confusion_matrix\n",
    "from imblearn.over_sampling import SMOTE\n",
    "from imblearn.under_sampling import NearMiss\n",
    "from sklearn.preprocessing import StandardScaler, MinMaxScaler, RobustScaler\n",
    "from sklearn.model_selection import cross_val_score"
   ]
  },
  {
   "cell_type": "code",
   "execution_count": 45,
   "id": "667da8a5",
   "metadata": {},
   "outputs": [],
   "source": [
    "# Read dataset\n",
    "cc_df = pd.read_csv('creditcard.csv', nrows=10000)"
   ]
  },
  {
   "cell_type": "code",
   "execution_count": 53,
   "id": "8e1185a6",
   "metadata": {},
   "outputs": [],
   "source": [
    "# Define function name and variables\n",
    "def build_and_evaluate_model(model_name, test_size, balancing_technique, scaling_technique, data):\n",
    "\n",
    "# Data Preprocessing\n",
    "    ## Split data\n",
    "    X = data.drop('Class', axis=1) \n",
    "    y = data['Class']\n",
    "    X_train, X_test, y_train, y_test = train_test_split(X, y, test_size=float(test_size), random_state=42)\n",
    " \n",
    "    ## Balance data and Scaling data\n",
    "    if balancing_technique.lower() == 'smote':\n",
    "        oversampler = SMOTE(k_neighbors=5)\n",
    "        X_resampled, y_resampled = oversampler.fit_resample(X_train, y_train)\n",
    "    elif balancing_technique.lower() == 'nearmiss':\n",
    "        undersampler = NearMiss()\n",
    "        X_resampled, y_resampled = undersampler.fit_resample(X_train, y_train)\n",
    "    else:\n",
    "        raise ValueError('Invalid balance technique. Use smore or nearmiss.')\n",
    "        \n",
    "    if scaling_technique.lower() == 'standardscaler':\n",
    "        scaler = StandardScaler()\n",
    "        X_resampled[['Amount', 'Time']] = scaler.fit_transform(X_resampled[['Amount', 'Time']])\n",
    "        X_test[['Amount', 'Time']] = scaler.fit_transform(X_test[['Amount', 'Time']])\n",
    "    elif scaling_technique.lower() == 'minmaxscaler':\n",
    "        scaler = MinMaxScaler()\n",
    "        X_resampled[['Amount', 'Time']] = scaler.fit_transform(X_resampled[['Amount', 'Time']])\n",
    "        X_test[['Amount', 'Time']] = scaler.fit_transform(X_test[['Amount', 'Time']])\n",
    "    elif scaling_technique.lower() == 'robustscaler':\n",
    "        scaler = RobustScaler()\n",
    "        X_resampled[['Amount', 'Time']] = scaler.fit_transform(X_resampled[['Amount', 'Time']])\n",
    "        X_test[['Amount', 'Time']] = scaler.fit_transform(X_test[['Amount', 'Time']])\n",
    "    else:\n",
    "        raise ValueError('Invalid scaling technique. Use standardscaler, minmaxscaler, or robustscaler.')\n",
    "        \n",
    "    # Build Models\n",
    "    if model_name.lower() == 'rf':\n",
    "        model = RandomForestClassifier(random_state=42)\n",
    "    elif model_name.lower() == 'svm':\n",
    "        model = SVC(random_state=42)\n",
    "    elif model_name.lower() == 'xgb':\n",
    "        model = XGBClassifier(random_state=42)\n",
    "    else:\n",
    "        raise ValueError(\"Invalid model name. Use rf for Random Forest, svm for Support Vector Machine, or xgb for XGBoost\")\n",
    "        \n",
    "    # Cross Validation\n",
    "    cv_scores = cross_val_score(model, X_resampled, y_resampled, cv=5 )\n",
    "\n",
    "    # Fit Models\n",
    "    model.fit(X_resampled, y_resampled)\n",
    "    \n",
    "    # Evaluate Models\n",
    "    y_pred = model.predict(X_test)\n",
    "\n",
    "    # Print Results\n",
    "    print(f\"Model: {model_name}\")\n",
    "    print(f\"Balancing Technique: {balancing_technique}\")\n",
    "    print(f\"Test Size: {test_size}\")\n",
    "    print(f\"Scaling Technique: {scaling_technique}\")\n",
    "    print(\"-\" * 50)\n",
    "    print(f'Cross Validations Scores: {cv_scores}')\n",
    "    print(f'Mean Cross Validations Scores: {np.mean(cv_scores)}')\n",
    "    print(\"-\" * 50)\n",
    "    print(\"Confusion Matrix:\")\n",
    "    print(confusion_matrix(y_test, y_pred))\n",
    "    print(\"-\" * 50)\n",
    "    print(\"Classification Report:\")\n",
    "    print(classification_report(y_test, y_pred))"
   ]
  },
  {
   "cell_type": "code",
   "execution_count": 56,
   "id": "494ce2e0",
   "metadata": {},
   "outputs": [
    {
     "name": "stdout",
     "output_type": "stream",
     "text": [
      "Model: rf\n",
      "Balancing Technique: smote\n",
      "Test Size: 0.3\n",
      "Scaling Technique: standardscaler\n",
      "--------------------------------------------------\n",
      "Cross Validations Scores: [1. 1. 1. 1. 1.]\n",
      "Mean Cross Validations Scores: 1.0\n",
      "--------------------------------------------------\n",
      "Confusion Matrix:\n",
      "[[2985    0]\n",
      " [   2   13]]\n",
      "--------------------------------------------------\n",
      "Classification Report:\n",
      "              precision    recall  f1-score   support\n",
      "\n",
      "           0       1.00      1.00      1.00      2985\n",
      "           1       1.00      0.87      0.93        15\n",
      "\n",
      "    accuracy                           1.00      3000\n",
      "   macro avg       1.00      0.93      0.96      3000\n",
      "weighted avg       1.00      1.00      1.00      3000\n",
      "\n"
     ]
    }
   ],
   "source": [
    "# Call Function\n",
    "build_and_evaluate_model(model_name='rf', \n",
    "                         test_size='0.3', \n",
    "                         balancing_technique='smote', \n",
    "                         scaling_technique='standardscaler', \n",
    "                         data=cc_df)"
   ]
  },
  {
   "cell_type": "code",
   "execution_count": null,
   "id": "744d27a8",
   "metadata": {},
   "outputs": [],
   "source": []
  }
 ],
 "metadata": {
  "kernelspec": {
   "display_name": "Python 3 (ipykernel)",
   "language": "python",
   "name": "python3"
  },
  "language_info": {
   "codemirror_mode": {
    "name": "ipython",
    "version": 3
   },
   "file_extension": ".py",
   "mimetype": "text/x-python",
   "name": "python",
   "nbconvert_exporter": "python",
   "pygments_lexer": "ipython3",
   "version": "3.11.5"
  }
 },
 "nbformat": 4,
 "nbformat_minor": 5
}
